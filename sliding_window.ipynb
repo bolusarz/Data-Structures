{
 "cells": [
  {
   "cell_type": "code",
   "execution_count": 7,
   "metadata": {
    "collapsed": true
   },
   "outputs": [
    {
     "name": "stdout",
     "output_type": "stream",
     "text": [
      "4\n",
      "5\n"
     ]
    }
   ],
   "source": [
    "#Longest String with K Distinct Characters\n",
    "\n",
    "def longest_string_with_k_distinct(text, r):\n",
    "    window_start = 0\n",
    "    max_length = 0\n",
    "    char_frequency = {}\n",
    "\n",
    "    for window_end in range(len(text)):\n",
    "        char = text[window_end]\n",
    "\n",
    "        if char in char_frequency:\n",
    "            char_frequency[char] += 1\n",
    "        else:\n",
    "            char_frequency[char] = 1\n",
    "\n",
    "        while len(char_frequency) > r:\n",
    "            start_char = text[window_start]\n",
    "            char_frequency[start_char] -= 1\n",
    "            window_start += 1\n",
    "\n",
    "            if char_frequency[start_char] == 0:\n",
    "                del char_frequency[start_char]\n",
    "\n",
    "        max_length = max(window_end - window_start + 1, max_length)\n",
    "\n",
    "    return max_length\n",
    "\n",
    "print(longest_string_with_k_distinct('araaci', 2))\n",
    "print(longest_string_with_k_distinct('cbbebi', 3))\n"
   ]
  },
  {
   "cell_type": "code",
   "execution_count": 10,
   "outputs": [
    {
     "data": {
      "text/plain": "5"
     },
     "execution_count": 10,
     "metadata": {},
     "output_type": "execute_result"
    }
   ],
   "source": [
    "# Fruits inside basket\n",
    "\n",
    "def fruits_into_basket(fruits):\n",
    "    window_start = 0\n",
    "    max_num_fruits = 0\n",
    "    basket = {}\n",
    "\n",
    "    for window_end in range(len(fruits)):\n",
    "        right = fruits[window_end]\n",
    "\n",
    "        if right in basket:\n",
    "            basket[right] += 1\n",
    "        else:\n",
    "            basket[right] = 0\n",
    "\n",
    "        while len(basket) > 2:\n",
    "            left = fruits[window_start]\n",
    "            window_start += 1\n",
    "\n",
    "            if basket[left] == 0:\n",
    "                del basket[left]\n",
    "            else:\n",
    "                basket[left] -= 1\n",
    "\n",
    "        max_num_fruits = max(window_end - window_start + 1, max_num_fruits)\n",
    "\n",
    "    return max_num_fruits\n",
    "\n",
    "fruits_into_basket(['A', 'B', 'C', 'B', 'B', 'C'])\n"
   ],
   "metadata": {
    "collapsed": false
   }
  },
  {
   "cell_type": "code",
   "execution_count": 15,
   "outputs": [
    {
     "data": {
      "text/plain": "3"
     },
     "execution_count": 15,
     "metadata": {},
     "output_type": "execute_result"
    }
   ],
   "source": [
    "# No repeat substring\n",
    "\n",
    "def non_repeat_substring(text):\n",
    "    window_start, max_length = 0, 0\n",
    "    char_index_map = {}\n",
    "\n",
    "    for window_end in range(len(text)):\n",
    "        char = text[window_end]\n",
    "\n",
    "        if char in char_index_map:\n",
    "            window_start = max(window_start, char_index_map[char] + 1)\n",
    "\n",
    "        char_index_map[char] = window_end\n",
    "\n",
    "        max_length = max(window_end - window_start + 1, max_length)\n",
    "\n",
    "    return max_length\n",
    "\n",
    "non_repeat_substring('abccde')\n"
   ],
   "metadata": {
    "collapsed": false
   }
  },
  {
   "cell_type": "code",
   "execution_count": 17,
   "outputs": [
    {
     "data": {
      "text/plain": "3"
     },
     "execution_count": 17,
     "metadata": {},
     "output_type": "execute_result"
    }
   ],
   "source": [
    "# Longest substring with same letters after replacement\n",
    "def length_of_longest_substring(s, k):\n",
    "    window_start, max_length, max_repeat_letter_count = 0, 0, 0\n",
    "    char_frequency_map = {}\n",
    "\n",
    "    for window_end in range(len(s)):\n",
    "        right = s[window_end]\n",
    "        if right in char_frequency_map:\n",
    "            char_frequency_map[right] += 1\n",
    "        else:\n",
    "            char_frequency_map[right] = 1\n",
    "\n",
    "        max_repeat_letter_count = max(max_repeat_letter_count, char_frequency_map[right])\n",
    "\n",
    "        if (window_end - window_start + 1) - max_repeat_letter_count > k:\n",
    "            left = s[window_start]\n",
    "            char_frequency_map[left] -= 1\n",
    "            window_start += 1\n",
    "\n",
    "        max_length = max(window_end - window_start + 1, max_length)\n",
    "\n",
    "    return max_length\n",
    "\n",
    "length_of_longest_substring('abccde', 1)"
   ],
   "metadata": {
    "collapsed": false
   }
  },
  {
   "cell_type": "code",
   "execution_count": 23,
   "outputs": [
    {
     "data": {
      "text/plain": "6"
     },
     "execution_count": 23,
     "metadata": {},
     "output_type": "execute_result"
    }
   ],
   "source": [
    "# Longest Subarray with Ones after Replacement\n",
    "\n",
    "def length_of_longest_substring(arr, k):\n",
    "    window_start, max_length, max_repeat_count = 0, 0, 0\n",
    "\n",
    "    for window_end in range(len(arr)):\n",
    "        if arr[window_end] == 1:\n",
    "            max_repeat_count += 1\n",
    "\n",
    "        if (window_end - window_start + 1) - max_repeat_count > k:\n",
    "            if arr[window_start] == 1:\n",
    "                max_repeat_count -= 1\n",
    "            window_start += 1\n",
    "\n",
    "        max_length = max(window_end -  window_start + 1, max_length)\n",
    "\n",
    "    return max_length\n",
    "\n",
    "length_of_longest_substring([0, 1, 1, 0, 0, 0, 1, 1, 0, 1, 1], 2)"
   ],
   "metadata": {
    "collapsed": false
   }
  },
  {
   "cell_type": "code",
   "execution_count": 29,
   "outputs": [
    {
     "ename": "KeyError",
     "evalue": "3",
     "output_type": "error",
     "traceback": [
      "\u001B[1;31m---------------------------------------------------------------------------\u001B[0m",
      "\u001B[1;31mKeyError\u001B[0m                                  Traceback (most recent call last)",
      "Cell \u001B[1;32mIn [29], line 31\u001B[0m\n\u001B[0;32m     27\u001B[0m             \u001B[38;5;28;01mreturn\u001B[39;00m \u001B[38;5;28;01mTrue\u001B[39;00m\n\u001B[0;32m     29\u001B[0m     \u001B[38;5;28;01mreturn\u001B[39;00m \u001B[38;5;28;01mFalse\u001B[39;00m\n\u001B[1;32m---> 31\u001B[0m \u001B[43mfind_pattern\u001B[49m\u001B[43m(\u001B[49m\u001B[38;5;124;43m'\u001B[39;49m\u001B[38;5;124;43moidbccab\u001B[39;49m\u001B[38;5;124;43m'\u001B[39;49m\u001B[43m,\u001B[49m\u001B[43m \u001B[49m\u001B[38;5;124;43m'\u001B[39;49m\u001B[38;5;124;43mabc\u001B[39;49m\u001B[38;5;124;43m'\u001B[39;49m\u001B[43m)\u001B[49m\n",
      "Cell \u001B[1;32mIn [29], line 19\u001B[0m, in \u001B[0;36mfind_pattern\u001B[1;34m(s, pattern)\u001B[0m\n\u001B[0;32m     16\u001B[0m char_frequency_map[right] \u001B[38;5;241m+\u001B[39m\u001B[38;5;241m=\u001B[39m \u001B[38;5;241m1\u001B[39m\n\u001B[0;32m     18\u001B[0m \u001B[38;5;28;01mif\u001B[39;00m char_frequency_map[right] \u001B[38;5;241m>\u001B[39m pattern_frequency_map[right]:\n\u001B[1;32m---> 19\u001B[0m     left \u001B[38;5;241m=\u001B[39m \u001B[43mchar_frequency_map\u001B[49m\u001B[43m[\u001B[49m\u001B[43mwindow_start\u001B[49m\u001B[43m]\u001B[49m\n\u001B[0;32m     20\u001B[0m     char_frequency_map[left] \u001B[38;5;241m-\u001B[39m\u001B[38;5;241m=\u001B[39m \u001B[38;5;241m1\u001B[39m\n\u001B[0;32m     21\u001B[0m     window_start \u001B[38;5;241m+\u001B[39m\u001B[38;5;241m=\u001B[39m \u001B[38;5;241m1\u001B[39m\n",
      "\u001B[1;31mKeyError\u001B[0m: 3"
     ]
    }
   ],
   "source": [
    "# Given a string and a pattern, find out if the string contains any permutation of the pattern.\n",
    "from collections import Counter\n",
    "\n",
    "\n",
    "def find_pattern(s, pattern):\n",
    "    window_start = 0\n",
    "    char_frequency_map = {}\n",
    "    pattern_frequency_map = Counter(pattern)\n",
    "\n",
    "    for window_end in range(len(s)):\n",
    "        right = s[window_end]\n",
    "\n",
    "        if right in pattern:\n",
    "            if right not in char_frequency_map:\n",
    "                char_frequency_map[right] = 0\n",
    "            char_frequency_map[right] += 1\n",
    "\n",
    "            if char_frequency_map[right] > pattern_frequency_map[right]:\n",
    "                left = char_frequency_map[window_start]\n",
    "                char_frequency_map[left] -= 1\n",
    "                window_start += 1\n",
    "\n",
    "        else:\n",
    "            window_start = window_end + 1\n",
    "\n",
    "        if window_end - window_start + 1 == len(pattern) and char_frequency_map == pattern_frequency_map:\n",
    "            return True\n",
    "\n",
    "    return False\n",
    "\n",
    "find_pattern('oidbccab', 'abc')"
   ],
   "metadata": {
    "collapsed": false
   }
  }
 ],
 "metadata": {
  "kernelspec": {
   "display_name": "Python 3",
   "language": "python",
   "name": "python3"
  },
  "language_info": {
   "codemirror_mode": {
    "name": "ipython",
    "version": 2
   },
   "file_extension": ".py",
   "mimetype": "text/x-python",
   "name": "python",
   "nbconvert_exporter": "python",
   "pygments_lexer": "ipython2",
   "version": "2.7.6"
  }
 },
 "nbformat": 4,
 "nbformat_minor": 0
}
